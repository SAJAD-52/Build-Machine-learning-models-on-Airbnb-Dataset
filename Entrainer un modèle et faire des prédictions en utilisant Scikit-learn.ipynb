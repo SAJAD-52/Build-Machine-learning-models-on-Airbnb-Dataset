{
 "cells": [
  {
   "cell_type": "code",
   "execution_count": 5,
   "metadata": {},
   "outputs": [],
   "source": [
    "import pandas as pd\n",
    "import numpy as np\n",
    "np.random.seed(1)\n",
    "from sklearn.neighbors import KNeighborsRegressor#importer la classe KNeighbors\n",
    "\n",
    "paris_listings = pd.read_csv('paris_airbnb.csv')\n",
    "sans = paris_listings['price'].str.replace(',', '')\n",
    "sans_dolar = sans.str.replace('$', '')\n",
    "paris_listings['price'] = sans_dolar.astype('float')\n",
    "paris_listings = paris_listings.loc[np.random.permutation(len(paris_listings))]\n",
    "drop_list = ['room_type', 'city', 'state', 'longitude', 'latitude', 'zipcode', 'host_response_rate', 'host_acceptance_rate', 'host_listings_count']\n",
    "paris_listings = paris_listings.drop(drop_list, axis=1)\n",
    "paris_listings = paris_listings.drop(['cleaning_fee', 'security_deposit'], axis=1 )#supprimer les colones ayant beaucoup des valeurs manquants \n",
    "paris_listings = paris_listings.dropna(axis=0)#supprimer les observations ayant des valeurs manquants\n",
    "normalise_max_nights = paris_listings['maximum_nights'] - paris_listings['maximum_nights'].mean()#normaliser une colone\n",
    "normalise_colone = normalise_max_nights/normalise_max_nights.std()\n",
    "normalized_lisings = (paris_listings - paris_listings.mean())/paris_listings.std()\n",
    "knn = KNeighborsRegressor(n_neighbors=5, algorithm='brute')#creer un objet model a partir de la classe KNeighbors\n"
   ]
  },
  {
   "cell_type": "code",
   "execution_count": 6,
   "metadata": {},
   "outputs": [
    {
     "data": {
      "text/plain": [
       "KNeighborsRegressor(algorithm='brute', leaf_size=30, metric='minkowski',\n",
       "                    metric_params=None, n_jobs=None, n_neighbors=5, p=2,\n",
       "                    weights='uniform')"
      ]
     },
     "execution_count": 6,
     "metadata": {},
     "output_type": "execute_result"
    }
   ],
   "source": [
    "#separer le dataset en deux sets pour extraire les paramètres demandés par la foct fit\n",
    "train_df = paris_listings.iloc[0:6000]\n",
    "test_df = paris_listings.iloc[6000:]\n",
    "\n",
    "#creer la 1ere objet : matrice \n",
    "train_features = train_df[['accommodates', 'bedrooms']]\n",
    "\n",
    "knn = KNeighborsRegressor(n_neighbors=5, algorithm='brute')#creer un objet model a partir de la classe KNeighbors\n",
    "\n",
    "#passer les deux paramètres à la fct fit \n",
    "knn.fit(train_features, train_df['price'])"
   ]
  },
  {
   "cell_type": "code",
   "execution_count": 7,
   "metadata": {},
   "outputs": [
    {
     "ename": "NameError",
     "evalue": "name 'prediction' is not defined",
     "output_type": "error",
     "traceback": [
      "\u001b[1;31m---------------------------------------------------------------------------\u001b[0m",
      "\u001b[1;31mNameError\u001b[0m                                 Traceback (most recent call last)",
      "\u001b[1;32m<ipython-input-7-05f7e0b11a3d>\u001b[0m in \u001b[0;36m<module>\u001b[1;34m\u001b[0m\n\u001b[0;32m      1\u001b[0m \u001b[0mpredection\u001b[0m \u001b[1;33m=\u001b[0m \u001b[0mknn\u001b[0m\u001b[1;33m.\u001b[0m\u001b[0mpredict\u001b[0m\u001b[1;33m(\u001b[0m\u001b[0mtest_df\u001b[0m\u001b[1;33m[\u001b[0m\u001b[1;33m[\u001b[0m\u001b[1;34m'accommodates'\u001b[0m\u001b[1;33m,\u001b[0m \u001b[1;34m'bedrooms'\u001b[0m\u001b[1;33m]\u001b[0m\u001b[1;33m]\u001b[0m\u001b[1;33m)\u001b[0m\u001b[1;33m\u001b[0m\u001b[1;33m\u001b[0m\u001b[0m\n\u001b[1;32m----> 2\u001b[1;33m \u001b[0mprint\u001b[0m\u001b[1;33m(\u001b[0m\u001b[0mprediction\u001b[0m\u001b[1;33m)\u001b[0m\u001b[1;33m\u001b[0m\u001b[1;33m\u001b[0m\u001b[0m\n\u001b[0m",
      "\u001b[1;31mNameError\u001b[0m: name 'prediction' is not defined"
     ]
    }
   ],
   "source": [
    "predection = knn.predict(test_df[['accommodates', 'bedrooms']])\n",
    "print(prediction)"
   ]
  },
  {
   "cell_type": "code",
   "execution_count": null,
   "metadata": {},
   "outputs": [],
   "source": [
    "test_df.head(6001)"
   ]
  },
  {
   "cell_type": "code",
   "execution_count": null,
   "metadata": {},
   "outputs": [],
   "source": [
    "#28. Calculer l'erreur quadratique moyenne en utilisant Scikit-learn\n",
    "from sklearn.metrics import mean_squared_error\n",
    "tow_features_mse = mean_squared_error(predection, test_df['price'])\n",
    "rmse = tow_features_mse**(1/2)\n",
    "print(tow_features_mse)\n",
    "print(rmse)"
   ]
  },
  {
   "cell_type": "code",
   "execution_count": null,
   "metadata": {},
   "outputs": [],
   "source": [
    "train_feature = train_df[['accommodates', 'bedrooms', 'bathrooms', 'number_of_reviews']]\n",
    "knn.fit(train_feature, train_df['price'])\n",
    "predictions = knn.predict(test_df[['accommodates', 'bedrooms', 'bathrooms', 'number_of_reviews']])\n",
    "print(predictions)"
   ]
  },
  {
   "cell_type": "code",
   "execution_count": 10,
   "metadata": {},
   "outputs": [
    {
     "name": "stdout",
     "output_type": "stream",
     "text": [
      "6069.437600417319\n",
      "77.90659535891245\n"
     ]
    }
   ],
   "source": [
    "model_mse = mean_squared_error(predictions, test_df['price'])\n",
    "rmse2 = model_mse**(1/2)\n",
    "print(model_mse)\n",
    "print(rmse2)"
   ]
  },
  {
   "cell_type": "code",
   "execution_count": null,
   "metadata": {},
   "outputs": [],
   "source": [
    "#utiliser tous les caractéristiques\n",
    "features = train_df.columns.tolist()\n",
    "features.remove('price')\n",
    "\n",
    "knn.fit(train_df[features], train_df['price'])\n",
    "predictd = knn.predict(test_df[features])\n",
    "model_mse2 = mean_squared_error(predictd, test_df['price'])\n",
    "rmse3 = model_mse2**(1/2)\n",
    "print(model_mse2)\n",
    "print(rmse3)"
   ]
  },
  {
   "cell_type": "code",
   "execution_count": 1,
   "metadata": {},
   "outputs": [],
   "source": [
    "#une augementation des caractéristiques n'implique pas l'augmentation de la performance de modèle, tout depend de la\n",
    "#pertincance des cartéristiques choisis\n"
   ]
  },
  {
   "cell_type": "code",
   "execution_count": 14,
   "metadata": {},
   "outputs": [
    {
     "name": "stdout",
     "output_type": "stream",
     "text": [
      "8229.30234741784\n",
      "90.71550224420213\n"
     ]
    }
   ],
   "source": [
    "#utilisation de la totalité des caractéristiqures\n",
    "from sklearn.metrics import mean_squared_error\n",
    "features2 = train_df.columns.tolist()\n",
    "features2.remove('price')\n",
    "knn.fit(train_df[features2], train_df['price'])\n",
    "predicts = knn.predict(test_df[features2])\n",
    "model2_mse = mean_squared_error(predicts, test_df['price'])\n",
    "print(model2_mse)\n",
    "rmse2 = model2_mse**(1/2)\n",
    "print(rmse2)"
   ]
  },
  {
   "cell_type": "code",
   "execution_count": null,
   "metadata": {},
   "outputs": [],
   "source": []
  }
 ],
 "metadata": {
  "kernelspec": {
   "display_name": "Python 3",
   "language": "python",
   "name": "python3"
  },
  "language_info": {
   "codemirror_mode": {
    "name": "ipython",
    "version": 3
   },
   "file_extension": ".py",
   "mimetype": "text/x-python",
   "name": "python",
   "nbconvert_exporter": "python",
   "pygments_lexer": "ipython3",
   "version": "3.7.6"
  }
 },
 "nbformat": 4,
 "nbformat_minor": 4
}
